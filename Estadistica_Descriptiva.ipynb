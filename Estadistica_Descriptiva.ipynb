{
 "cells": [
  {
   "cell_type": "markdown",
   "id": "78db4054-a28f-4b39-8a8d-20bd0ce17c5d",
   "metadata": {},
   "source": [
    "# <span style=\"color: royalblue\"><center> INICIO DEL CURSO </center> </span>"
   ]
  },
  {
   "cell_type": "markdown",
   "id": "21e020e4-7335-43c0-923a-a4a8677dc410",
   "metadata": {},
   "source": [
    "Prefacio:\n",
    "Descifrar lo que es cierto y no es cierto de la estadística descriptiva."
   ]
  },
  {
   "cell_type": "markdown",
   "id": "d4ea929e-4a6f-4836-85e5-bc21948185ad",
   "metadata": {},
   "source": [
    "### Diferencias entre estadística descriptiva e inferencial:\n",
    "\n",
    "* ¿Qué es estadística descriptiva y no descriptiva?\n",
    "Justamente, hay dos principales ramas de estadística: la descriptiva e inferencial. La estadística descriptiva es la que va a abarcar el curso y está definida como el análisis, el resumen y la presentación de los resultados relacionados con un conjunto de datos derivados de un evento o todo el espacio muestral. La palabra técnica es caracterizar.\n",
    "Cuando se habla de inferencial se concentra la parte de modelamiento encargada con el desempeño hacia le futuro, las predicciones y la aplicación de inferencias.\n",
    "\n",
    "Con la descriptiva hay un problema. ¿Cómo se define lo que es correcto o no? No hay una única métrica que mida en sí misma la pregunta única que se está tratando de buscar. Ejemplo: ¿Cuál es el mejor jugador del mundo de fútbol? Pues en términos de qué... De goles, asistencias, minutos, títulos, lealtad.... No hay ninguna forma de medir cuantitativamente le mejor jugador, porque no existe naturalmente la medida. Todas las mediciones son subjetivas, no objetivas. \n",
    "Libro recomendado es: [Estadística descriptiva](https://www.dm.uba.ar/materias/estadistica_Q/2011/1/modulo%20descriptiva.pdf)\n",
    "\n"
   ]
  },
  {
   "cell_type": "markdown",
   "id": "68ebc3c6-59cb-47f8-9402-aed46f47d7e9",
   "metadata": {},
   "source": [
    "<img src=\"Imagenes/porquéaprenderestad.png\" width=\"800\" height=\"400\" align=\"center\"/> "
   ]
  },
  {
   "cell_type": "markdown",
   "id": "fbaac8ba-f35e-4dc6-8778-4ac81a60d661",
   "metadata": {},
   "source": [
    "# <center><span style= \"color: royalblue\"> Workflow de Data Science</span></center>"
   ]
  },
  {
   "cell_type": "markdown",
   "id": "b8a426a8-693b-4265-9477-10d384559024",
   "metadata": {},
   "source": [
    "<img src=\"Imagenes/workflow.jpg\" width=\"800\" height=\"400\" align=\"center\"/> "
   ]
  },
  {
   "cell_type": "markdown",
   "id": "31833ba0-6e46-4774-a7ef-4b05c28e8388",
   "metadata": {},
   "source": [
    "# <center><span style= \"color: royalblue\"> Acerca de los datos</span></center>"
   ]
  },
  {
   "cell_type": "markdown",
   "id": "bcc2aacb-f31d-4a93-9201-b7a11d502fea",
   "metadata": {},
   "source": [
    "<img src=\"Imagenes/tiposdatos.png\" width=\"800\" height=\"400\" align=\"center\"/> "
   ]
  },
  {
   "cell_type": "code",
   "execution_count": null,
   "id": "4f9cd51c-5e85-472c-8648-e7bf9aa0ca1d",
   "metadata": {},
   "outputs": [],
   "source": []
  }
 ],
 "metadata": {
  "kernelspec": {
   "display_name": "Python 3 (ipykernel)",
   "language": "python",
   "name": "python3"
  },
  "language_info": {
   "codemirror_mode": {
    "name": "ipython",
    "version": 3
   },
   "file_extension": ".py",
   "mimetype": "text/x-python",
   "name": "python",
   "nbconvert_exporter": "python",
   "pygments_lexer": "ipython3",
   "version": "3.11.0"
  }
 },
 "nbformat": 4,
 "nbformat_minor": 5
}
