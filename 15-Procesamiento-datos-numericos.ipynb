{
 "cells": [
  {
   "cell_type": "markdown",
   "metadata": {},
   "source": [
    "# <span style=\"color:royalblue\"><center>Transformación lineal y no lineal</center></span>\n",
    "\n",
    "\n",
    "Una transformación lineal es todo aquel procedimiento ene l cual los datos están distirbuidos de la manera más simétrica posible, donde los datos tienden a estar de forma *normal*. Pero, **¿qué sucede cuando los datos no están dispuestos de forma simétrica?** la respuesta es que normalmente se debe hacer una transformación no lineal con el fin de poder abordar el problema de forma lineal. Es decir, normalizar de tal forma que los datos se comporten de manera normalizada y esto reduzca el problema.\n",
    "\n",
    "* ¿Por qué usarlos?\n",
    "Datos fuertmeente sesgados, no simétricos.\n",
    "\n",
    "* ¿Hay diferentes tipos?\n",
    "Se puede aplciar a los datos muchas funciones para simetrizar, como por ejemplo: Logaritmos, sigmoides, polinomiales, etc...\n",
    "\n",
    "* ¿Cuándo usarlos?\n",
    "Antes del escalamiento lineal de los datos."
   ]
  },
  {
   "cell_type": "markdown",
   "metadata": {},
   "source": [
    "## Ejemplo usando la función $Tanh(x)$\n",
    "\n",
    "Esta función está acotada por arriba en 1 y por debajo en -1.\n",
    "Una característica fundamental es que cuando se pasan datos muy asimétricos, por ejemplo con una cola positva larga, eso indicaría que la posición de los puntos en x se hace así mismo larga.\n",
    "Por ende, la franja que va a ocupar en y se hace cada vez más tendiente a 0. En tanto que los datos más cercanos a 0, que para efectos gaussianos debería ser el dato más repetido y su $\\mu$ estaría allí, van a ocupar una franja más grande en y por cuenta de cómo está desarrollada en sí misma la función.\n",
    "Ver abajo.\n",
    "\n",
    "Cuando a la función se le agrega el parámetro tal que $X$ pasa a ser un $\\frac{X}{a}$ con $a != 0$, se puede hacer que sea más abrupta la pendiente que tiene la tangente o más suavizada. Esto implica que se puede transformar para calibrar los datos.\n",
    "\n",
    "Lo mismo ocurriría con la función $\\sqrt{X}$ en el sentido de que estrictamente hablandouna raíz cuadrara es $X^\\frac{1}{2}$ y ésto puede entenderse como un $X^\\frac{a}{b}$ con $a$ y $b$ siendo cualquier posibilidad para suavizar la función siempre que $b != 0$"
   ]
  },
  {
   "cell_type": "code",
   "execution_count": 6,
   "metadata": {},
   "outputs": [
    {
     "name": "stderr",
     "output_type": "stream",
     "text": [
      "C:\\Users\\Mateo\\AppData\\Local\\Temp\\ipykernel_2136\\2457511357.py:7: RuntimeWarning: invalid value encountered in sqrt\n",
      "  y1 = np.sqrt(x)\n"
     ]
    },
    {
     "data": {
      "text/plain": [
       "[<matplotlib.lines.Line2D at 0x201001f3450>]"
      ]
     },
     "execution_count": 6,
     "metadata": {},
     "output_type": "execute_result"
    },
    {
     "data": {
      "image/png": "[encoded data removed]",
      "text/plain": [
       "<Figure size 640x480 with 1 Axes>"
      ]
     },
     "metadata": {},
     "output_type": "display_data"
    }
   ],
   "source": [
    "# Ejemplo de la Tanh(x)\n",
    "import numpy as np\n",
    "import matplotlib.pyplot as plt\n",
    "\n",
    "x = np.linspace(-10,10)\n",
    "y = np.tanh(x)\n",
    "y1 = np.sqrt(x)\n",
    "plt.plot(x,y)\n",
    "plt.plot(x,y1)"
   ]
  },
  {
   "cell_type": "markdown",
   "metadata": {
    "tags": []
   },
   "source": [
    "# <span style=\"color:royalblue\"><center>Escalamiento de datos numéricos</center></span>\n",
    "\n",
    "Uno de los problemas recurrentes en modelos de ML y DS es que los optimizadores funcionan de manera más eficiente entre valores de $[-1,1]$. Entonces, si se tienen variables a ajustar con escalas muy distintas, por ejemplo datos que van desde decimales hasta millones, no va a hacer match ningún proceso que se le aplique. Debe haber un **preprocesamiento de los datos** y esto es a lo que se le conoce como **NORMALIZAR|ESCALAR**. \n",
    "\n",
    "Hay muchas formas de escalamiento lineal, como lo son:\n",
    "* max-min:\n",
    "\n",
    "$X$ -> $Xs$, en donde \n",
    "\n",
    "$Xs$ = $\\frac{2X - min - max}{max-min}$\n",
    "\n",
    "-----\n",
    "* Clipping / Winsorizing:\n",
    "\n",
    "Se colapsa a los intervalos min y max, es decir, todo valor por debajo del $Q1$ se colapsa al valor mismo del $Q1$ y cualquier valor por encima del $Q3$ se colapsa al valor mismo del $Q3$.\n",
    "\n",
    "Si no se hace con base en los percentiles, sino que se hace de forma arbitraria, simplemente se llama clipping\n",
    "\n",
    "-----\n",
    "* Z-score:\n",
    "\n",
    "Es uno de los más usados.\n",
    "\n",
    "Para cualquier muestra de datos $X$, donde $X = {X1,X2,X3,...,Xn}$ hay una media $\\mu$ y una desviación estándar $\\sigma$ de tal manera que cada dato estandarizado corresponde a:\n",
    "\n",
    "\n",
    "$Xs$ = $\\frac{X-\\mu}{\\sigma}$,\n",
    "\n",
    "Es decir, a cada valor de la distribución se le resta la media y se le divide por la desviación estándar. Acá mucho más importante, la distribución queda mayoritariamente de forma típica normal, es decir con $\\mu = 0$ y $\\sigma = 1$\n",
    "\n",
    "Pero el hecho es que únicamente es buena idea utilizarlos cuando la data está simétricamente y/o uniformemente distirbuida."
   ]
  },
  {
   "cell_type": "markdown",
   "metadata": {
    "cell_id": "e920b6cfe93c483ba9280077bd960199",
    "deepnote_cell_type": "markdown",
    "tags": []
   },
   "source": [
    "### Transformaciones lineales"
   ]
  },
  {
   "cell_type": "code",
   "execution_count": 12,
   "metadata": {},
   "outputs": [
    {
     "data": {
      "text/html": [
       "<div>\n",
       "<style scoped>\n",
       "    .dataframe tbody tr th:only-of-type {\n",
       "        vertical-align: middle;\n",
       "    }\n",
       "\n",
       "    .dataframe tbody tr th {\n",
       "        vertical-align: top;\n",
       "    }\n",
       "\n",
       "    .dataframe thead th {\n",
       "        text-align: right;\n",
       "    }\n",
       "</style>\n",
       "<table border=\"1\" class=\"dataframe\">\n",
       "  <thead>\n",
       "    <tr style=\"text-align: right;\">\n",
       "      <th></th>\n",
       "      <th>age</th>\n",
       "      <th>sex</th>\n",
       "      <th>bmi</th>\n",
       "      <th>bp</th>\n",
       "      <th>s1</th>\n",
       "      <th>s2</th>\n",
       "      <th>s3</th>\n",
       "      <th>s4</th>\n",
       "      <th>s5</th>\n",
       "      <th>s6</th>\n",
       "    </tr>\n",
       "  </thead>\n",
       "  <tbody>\n",
       "    <tr>\n",
       "      <th>0</th>\n",
       "      <td>0.038076</td>\n",
       "      <td>0.050680</td>\n",
       "      <td>0.061696</td>\n",
       "      <td>0.021872</td>\n",
       "      <td>-0.044223</td>\n",
       "      <td>-0.034821</td>\n",
       "      <td>-0.043401</td>\n",
       "      <td>-0.002592</td>\n",
       "      <td>0.019907</td>\n",
       "      <td>-0.017646</td>\n",
       "    </tr>\n",
       "    <tr>\n",
       "      <th>1</th>\n",
       "      <td>-0.001882</td>\n",
       "      <td>-0.044642</td>\n",
       "      <td>-0.051474</td>\n",
       "      <td>-0.026328</td>\n",
       "      <td>-0.008449</td>\n",
       "      <td>-0.019163</td>\n",
       "      <td>0.074412</td>\n",
       "      <td>-0.039493</td>\n",
       "      <td>-0.068332</td>\n",
       "      <td>-0.092204</td>\n",
       "    </tr>\n",
       "    <tr>\n",
       "      <th>2</th>\n",
       "      <td>0.085299</td>\n",
       "      <td>0.050680</td>\n",
       "      <td>0.044451</td>\n",
       "      <td>-0.005670</td>\n",
       "      <td>-0.045599</td>\n",
       "      <td>-0.034194</td>\n",
       "      <td>-0.032356</td>\n",
       "      <td>-0.002592</td>\n",
       "      <td>0.002861</td>\n",
       "      <td>-0.025930</td>\n",
       "    </tr>\n",
       "    <tr>\n",
       "      <th>3</th>\n",
       "      <td>-0.089063</td>\n",
       "      <td>-0.044642</td>\n",
       "      <td>-0.011595</td>\n",
       "      <td>-0.036656</td>\n",
       "      <td>0.012191</td>\n",
       "      <td>0.024991</td>\n",
       "      <td>-0.036038</td>\n",
       "      <td>0.034309</td>\n",
       "      <td>0.022688</td>\n",
       "      <td>-0.009362</td>\n",
       "    </tr>\n",
       "    <tr>\n",
       "      <th>4</th>\n",
       "      <td>0.005383</td>\n",
       "      <td>-0.044642</td>\n",
       "      <td>-0.036385</td>\n",
       "      <td>0.021872</td>\n",
       "      <td>0.003935</td>\n",
       "      <td>0.015596</td>\n",
       "      <td>0.008142</td>\n",
       "      <td>-0.002592</td>\n",
       "      <td>-0.031988</td>\n",
       "      <td>-0.046641</td>\n",
       "    </tr>\n",
       "    <tr>\n",
       "      <th>...</th>\n",
       "      <td>...</td>\n",
       "      <td>...</td>\n",
       "      <td>...</td>\n",
       "      <td>...</td>\n",
       "      <td>...</td>\n",
       "      <td>...</td>\n",
       "      <td>...</td>\n",
       "      <td>...</td>\n",
       "      <td>...</td>\n",
       "      <td>...</td>\n",
       "    </tr>\n",
       "    <tr>\n",
       "      <th>437</th>\n",
       "      <td>0.041708</td>\n",
       "      <td>0.050680</td>\n",
       "      <td>0.019662</td>\n",
       "      <td>0.059744</td>\n",
       "      <td>-0.005697</td>\n",
       "      <td>-0.002566</td>\n",
       "      <td>-0.028674</td>\n",
       "      <td>-0.002592</td>\n",
       "      <td>0.031193</td>\n",
       "      <td>0.007207</td>\n",
       "    </tr>\n",
       "    <tr>\n",
       "      <th>438</th>\n",
       "      <td>-0.005515</td>\n",
       "      <td>0.050680</td>\n",
       "      <td>-0.015906</td>\n",
       "      <td>-0.067642</td>\n",
       "      <td>0.049341</td>\n",
       "      <td>0.079165</td>\n",
       "      <td>-0.028674</td>\n",
       "      <td>0.034309</td>\n",
       "      <td>-0.018114</td>\n",
       "      <td>0.044485</td>\n",
       "    </tr>\n",
       "    <tr>\n",
       "      <th>439</th>\n",
       "      <td>0.041708</td>\n",
       "      <td>0.050680</td>\n",
       "      <td>-0.015906</td>\n",
       "      <td>0.017293</td>\n",
       "      <td>-0.037344</td>\n",
       "      <td>-0.013840</td>\n",
       "      <td>-0.024993</td>\n",
       "      <td>-0.011080</td>\n",
       "      <td>-0.046883</td>\n",
       "      <td>0.015491</td>\n",
       "    </tr>\n",
       "    <tr>\n",
       "      <th>440</th>\n",
       "      <td>-0.045472</td>\n",
       "      <td>-0.044642</td>\n",
       "      <td>0.039062</td>\n",
       "      <td>0.001215</td>\n",
       "      <td>0.016318</td>\n",
       "      <td>0.015283</td>\n",
       "      <td>-0.028674</td>\n",
       "      <td>0.026560</td>\n",
       "      <td>0.044529</td>\n",
       "      <td>-0.025930</td>\n",
       "    </tr>\n",
       "    <tr>\n",
       "      <th>441</th>\n",
       "      <td>-0.045472</td>\n",
       "      <td>-0.044642</td>\n",
       "      <td>-0.073030</td>\n",
       "      <td>-0.081413</td>\n",
       "      <td>0.083740</td>\n",
       "      <td>0.027809</td>\n",
       "      <td>0.173816</td>\n",
       "      <td>-0.039493</td>\n",
       "      <td>-0.004222</td>\n",
       "      <td>0.003064</td>\n",
       "    </tr>\n",
       "  </tbody>\n",
       "</table>\n",
       "<p>442 rows × 10 columns</p>\n",
       "</div>"
      ],
      "text/plain": [
       "          age       sex       bmi        bp        s1        s2        s3  \\\n",
       "0    0.038076  0.050680  0.061696  0.021872 -0.044223 -0.034821 -0.043401   \n",
       "1   -0.001882 -0.044642 -0.051474 -0.026328 -0.008449 -0.019163  0.074412   \n",
       "2    0.085299  0.050680  0.044451 -0.005670 -0.045599 -0.034194 -0.032356   \n",
       "3   -0.089063 -0.044642 -0.011595 -0.036656  0.012191  0.024991 -0.036038   \n",
       "4    0.005383 -0.044642 -0.036385  0.021872  0.003935  0.015596  0.008142   \n",
       "..        ...       ...       ...       ...       ...       ...       ...   \n",
       "437  0.041708  0.050680  0.019662  0.059744 -0.005697 -0.002566 -0.028674   \n",
       "438 -0.005515  0.050680 -0.015906 -0.067642  0.049341  0.079165 -0.028674   \n",
       "439  0.041708  0.050680 -0.015906  0.017293 -0.037344 -0.013840 -0.024993   \n",
       "440 -0.045472 -0.044642  0.039062  0.001215  0.016318  0.015283 -0.028674   \n",
       "441 -0.045472 -0.044642 -0.073030 -0.081413  0.083740  0.027809  0.173816   \n",
       "\n",
       "           s4        s5        s6  \n",
       "0   -0.002592  0.019907 -0.017646  \n",
       "1   -0.039493 -0.068332 -0.092204  \n",
       "2   -0.002592  0.002861 -0.025930  \n",
       "3    0.034309  0.022688 -0.009362  \n",
       "4   -0.002592 -0.031988 -0.046641  \n",
       "..        ...       ...       ...  \n",
       "437 -0.002592  0.031193  0.007207  \n",
       "438  0.034309 -0.018114  0.044485  \n",
       "439 -0.011080 -0.046883  0.015491  \n",
       "440  0.026560  0.044529 -0.025930  \n",
       "441 -0.039493 -0.004222  0.003064  \n",
       "\n",
       "[442 rows x 10 columns]"
      ]
     },
     "metadata": {},
     "output_type": "display_data"
    },
    {
     "data": {
      "text/html": [
       "<div>\n",
       "<style scoped>\n",
       "    .dataframe tbody tr th:only-of-type {\n",
       "        vertical-align: middle;\n",
       "    }\n",
       "\n",
       "    .dataframe tbody tr th {\n",
       "        vertical-align: top;\n",
       "    }\n",
       "\n",
       "    .dataframe thead th {\n",
       "        text-align: right;\n",
       "    }\n",
       "</style>\n",
       "<table border=\"1\" class=\"dataframe\">\n",
       "  <thead>\n",
       "    <tr style=\"text-align: right;\">\n",
       "      <th></th>\n",
       "      <th>age</th>\n",
       "      <th>sex</th>\n",
       "      <th>bmi</th>\n",
       "      <th>bp</th>\n",
       "      <th>s1</th>\n",
       "      <th>s2</th>\n",
       "      <th>s3</th>\n",
       "      <th>s4</th>\n",
       "      <th>s5</th>\n",
       "      <th>s6</th>\n",
       "    </tr>\n",
       "  </thead>\n",
       "  <tbody>\n",
       "    <tr>\n",
       "      <th>count</th>\n",
       "      <td>4.420000e+02</td>\n",
       "      <td>4.420000e+02</td>\n",
       "      <td>4.420000e+02</td>\n",
       "      <td>4.420000e+02</td>\n",
       "      <td>4.420000e+02</td>\n",
       "      <td>4.420000e+02</td>\n",
       "      <td>4.420000e+02</td>\n",
       "      <td>4.420000e+02</td>\n",
       "      <td>4.420000e+02</td>\n",
       "      <td>4.420000e+02</td>\n",
       "    </tr>\n",
       "    <tr>\n",
       "      <th>mean</th>\n",
       "      <td>-2.511817e-19</td>\n",
       "      <td>1.230790e-17</td>\n",
       "      <td>-2.245564e-16</td>\n",
       "      <td>-4.797570e-17</td>\n",
       "      <td>-1.381499e-17</td>\n",
       "      <td>3.918434e-17</td>\n",
       "      <td>-5.777179e-18</td>\n",
       "      <td>-9.042540e-18</td>\n",
       "      <td>9.293722e-17</td>\n",
       "      <td>1.130318e-17</td>\n",
       "    </tr>\n",
       "    <tr>\n",
       "      <th>std</th>\n",
       "      <td>4.761905e-02</td>\n",
       "      <td>4.761905e-02</td>\n",
       "      <td>4.761905e-02</td>\n",
       "      <td>4.761905e-02</td>\n",
       "      <td>4.761905e-02</td>\n",
       "      <td>4.761905e-02</td>\n",
       "      <td>4.761905e-02</td>\n",
       "      <td>4.761905e-02</td>\n",
       "      <td>4.761905e-02</td>\n",
       "      <td>4.761905e-02</td>\n",
       "    </tr>\n",
       "    <tr>\n",
       "      <th>min</th>\n",
       "      <td>-1.072256e-01</td>\n",
       "      <td>-4.464164e-02</td>\n",
       "      <td>-9.027530e-02</td>\n",
       "      <td>-1.123988e-01</td>\n",
       "      <td>-1.267807e-01</td>\n",
       "      <td>-1.156131e-01</td>\n",
       "      <td>-1.023071e-01</td>\n",
       "      <td>-7.639450e-02</td>\n",
       "      <td>-1.260971e-01</td>\n",
       "      <td>-1.377672e-01</td>\n",
       "    </tr>\n",
       "    <tr>\n",
       "      <th>25%</th>\n",
       "      <td>-3.729927e-02</td>\n",
       "      <td>-4.464164e-02</td>\n",
       "      <td>-3.422907e-02</td>\n",
       "      <td>-3.665608e-02</td>\n",
       "      <td>-3.424784e-02</td>\n",
       "      <td>-3.035840e-02</td>\n",
       "      <td>-3.511716e-02</td>\n",
       "      <td>-3.949338e-02</td>\n",
       "      <td>-3.324559e-02</td>\n",
       "      <td>-3.317903e-02</td>\n",
       "    </tr>\n",
       "    <tr>\n",
       "      <th>50%</th>\n",
       "      <td>5.383060e-03</td>\n",
       "      <td>-4.464164e-02</td>\n",
       "      <td>-7.283766e-03</td>\n",
       "      <td>-5.670422e-03</td>\n",
       "      <td>-4.320866e-03</td>\n",
       "      <td>-3.819065e-03</td>\n",
       "      <td>-6.584468e-03</td>\n",
       "      <td>-2.592262e-03</td>\n",
       "      <td>-1.947171e-03</td>\n",
       "      <td>-1.077698e-03</td>\n",
       "    </tr>\n",
       "    <tr>\n",
       "      <th>75%</th>\n",
       "      <td>3.807591e-02</td>\n",
       "      <td>5.068012e-02</td>\n",
       "      <td>3.124802e-02</td>\n",
       "      <td>3.564379e-02</td>\n",
       "      <td>2.835801e-02</td>\n",
       "      <td>2.984439e-02</td>\n",
       "      <td>2.931150e-02</td>\n",
       "      <td>3.430886e-02</td>\n",
       "      <td>3.243232e-02</td>\n",
       "      <td>2.791705e-02</td>\n",
       "    </tr>\n",
       "    <tr>\n",
       "      <th>max</th>\n",
       "      <td>1.107267e-01</td>\n",
       "      <td>5.068012e-02</td>\n",
       "      <td>1.705552e-01</td>\n",
       "      <td>1.320436e-01</td>\n",
       "      <td>1.539137e-01</td>\n",
       "      <td>1.987880e-01</td>\n",
       "      <td>1.811791e-01</td>\n",
       "      <td>1.852344e-01</td>\n",
       "      <td>1.335973e-01</td>\n",
       "      <td>1.356118e-01</td>\n",
       "    </tr>\n",
       "  </tbody>\n",
       "</table>\n",
       "</div>"
      ],
      "text/plain": [
       "                age           sex           bmi            bp            s1  \\\n",
       "count  4.420000e+02  4.420000e+02  4.420000e+02  4.420000e+02  4.420000e+02   \n",
       "mean  -2.511817e-19  1.230790e-17 -2.245564e-16 -4.797570e-17 -1.381499e-17   \n",
       "std    4.761905e-02  4.761905e-02  4.761905e-02  4.761905e-02  4.761905e-02   \n",
       "min   -1.072256e-01 -4.464164e-02 -9.027530e-02 -1.123988e-01 -1.267807e-01   \n",
       "25%   -3.729927e-02 -4.464164e-02 -3.422907e-02 -3.665608e-02 -3.424784e-02   \n",
       "50%    5.383060e-03 -4.464164e-02 -7.283766e-03 -5.670422e-03 -4.320866e-03   \n",
       "75%    3.807591e-02  5.068012e-02  3.124802e-02  3.564379e-02  2.835801e-02   \n",
       "max    1.107267e-01  5.068012e-02  1.705552e-01  1.320436e-01  1.539137e-01   \n",
       "\n",
       "                 s2            s3            s4            s5            s6  \n",
       "count  4.420000e+02  4.420000e+02  4.420000e+02  4.420000e+02  4.420000e+02  \n",
       "mean   3.918434e-17 -5.777179e-18 -9.042540e-18  9.293722e-17  1.130318e-17  \n",
       "std    4.761905e-02  4.761905e-02  4.761905e-02  4.761905e-02  4.761905e-02  \n",
       "min   -1.156131e-01 -1.023071e-01 -7.639450e-02 -1.260971e-01 -1.377672e-01  \n",
       "25%   -3.035840e-02 -3.511716e-02 -3.949338e-02 -3.324559e-02 -3.317903e-02  \n",
       "50%   -3.819065e-03 -6.584468e-03 -2.592262e-03 -1.947171e-03 -1.077698e-03  \n",
       "75%    2.984439e-02  2.931150e-02  3.430886e-02  3.243232e-02  2.791705e-02  \n",
       "max    1.987880e-01  1.811791e-01  1.852344e-01  1.335973e-01  1.356118e-01  "
      ]
     },
     "execution_count": 12,
     "metadata": {},
     "output_type": "execute_result"
    }
   ],
   "source": [
    "X,y = datasets.load_diabetes(as_frame=True,return_X_y=True)\n",
    "display(X)\n",
    "X.describe()"
   ]
  },
  {
   "cell_type": "code",
   "execution_count": 24,
   "metadata": {
    "cell_id": "b09b8e4a9ae94fa4858d13fcb7fad34f",
    "deepnote_cell_type": "code",
    "deepnote_to_be_reexecuted": false,
    "execution_millis": 2532,
    "execution_start": 1622484982440,
    "source_hash": "f9ac71d",
    "tags": []
   },
   "outputs": [],
   "source": [
    "import timeit\n",
    "import numpy as np\n",
    "import pandas as pd \n",
    "import matplotlib.pyplot as plt\n",
    "from sklearn import datasets, linear_model\n",
    "\n",
    "X, y = datasets.load_diabetes(return_X_y=True)\n",
    "raw = X[:, None, 2]"
   ]
  },
  {
   "cell_type": "markdown",
   "metadata": {
    "cell_id": "e4fe6f6530ab4debb825c835cf13086c",
    "deepnote_cell_type": "markdown",
    "tags": []
   },
   "source": [
    "Detalles del dataset: https://scikit-learn.org/stable/modules/generated/sklearn.datasets.load_diabetes.html"
   ]
  },
  {
   "cell_type": "code",
   "execution_count": 25,
   "metadata": {
    "cell_id": "e5b5ac2d004f41cbbe2806f0be68901b",
    "deepnote_cell_type": "code",
    "deepnote_to_be_reexecuted": false,
    "execution_millis": 595,
    "execution_start": 1622484985003,
    "output_cleared": false,
    "source_hash": "4c236db0",
    "tags": []
   },
   "outputs": [
    {
     "data": {
      "text/plain": [
       "(array([32., 66., 98., 90., 61., 53., 23., 12.,  5.,  2.]),\n",
       " array([-1.89792941, -1.34956464, -0.80119987, -0.2528351 ,  0.29552967,\n",
       "         0.84389444,  1.39225921,  1.94062398,  2.48898875,  3.03735352,\n",
       "         3.58571828]),\n",
       " <BarContainer object of 10 artists>)"
      ]
     },
     "execution_count": 25,
     "metadata": {},
     "output_type": "execute_result"
    },
    {
     "data": {
      "image/png": "[encoded data removed]",
      "text/plain": [
       "<Figure size 640x480 with 3 Axes>"
      ]
     },
     "metadata": {},
     "output_type": "display_data"
    }
   ],
   "source": [
    "# escalamiento max-min\n",
    "max_raw = max(raw)\n",
    "min_raw = min(raw)\n",
    "scaled = (2*raw - max_raw -min_raw)/(max_raw - min_raw)\n",
    "\n",
    "# normalización Z-score\n",
    "\n",
    "avg = np.average(raw)\n",
    "std = np.std(raw)\n",
    "z_scaled = (raw - avg)/std\n",
    "\n",
    "fig, axs = plt.subplots(3, 1, sharex=True, tight_layout=True)\n",
    "\n",
    "axs[0].hist(raw)\n",
    "axs[1].hist(scaled)\n",
    "axs[2].hist(z_scaled)"
   ]
  },
  {
   "cell_type": "code",
   "execution_count": 26,
   "metadata": {
    "cell_id": "baa984cbd32540ab8dd3f2719b843c9b",
    "deepnote_cell_type": "code",
    "deepnote_to_be_reexecuted": false,
    "execution_millis": 1,
    "execution_start": 1622485022773,
    "source_hash": "8d13a080",
    "tags": []
   },
   "outputs": [],
   "source": [
    "# modelos para entrenamiento\n",
    "def train_raw():\n",
    "    linear_model.LinearRegression().fit(raw, y)\n",
    "\n",
    "def train_scaled():\n",
    "    linear_model.LinearRegression().fit(scaled, y)\n",
    "\n",
    "def train_z_scaled():\n",
    "    linear_model.LinearRegression().fit(z_scaled, y)"
   ]
  },
  {
   "cell_type": "code",
   "execution_count": 28,
   "metadata": {
    "cell_id": "0d5cfc0d8ba24fc1a4d49cbdffadeefa",
    "deepnote_cell_type": "code",
    "deepnote_to_be_reexecuted": false,
    "execution_millis": 1,
    "execution_start": 1622485024560,
    "output_cleared": false,
    "source_hash": "6dc73673",
    "tags": []
   },
   "outputs": [
    {
     "name": "stdout",
     "output_type": "stream",
     "text": [
      "trainning time for raw data : 0.06250330002512783 \n",
      "trainning time for scaled data : 0.05834370001684874\n",
      "trainning time for z_scaled data : 0.05273749999469146\n"
     ]
    }
   ],
   "source": [
    "#Que mida el tiempo y que repita el ejercicio x num veces\n",
    "raw_time = timeit.timeit(train_raw, number = 100)\n",
    "scaled_time = timeit.timeit(train_raw, number = 100)\n",
    "z_scaled_time = timeit.timeit(train_raw, number = 100)\n",
    "print('trainning time for raw data : {} '.format(raw_time))\n",
    "print('trainning time for scaled data : {}'.format(scaled_time))\n",
    "print('trainning time for z_scaled data : {}'.format(z_scaled_time))"
   ]
  },
  {
   "cell_type": "markdown",
   "metadata": {
    "cell_id": "86e59fbba8a24a2789a1b1d253308a9a",
    "deepnote_cell_type": "markdown",
    "tags": []
   },
   "source": [
    "* max-min scaling: mejor para datos uniformemente distribuidos\n",
    "* z-score scaling: mejor para datos distribuidos \"normalmente\" (forma de campana de gauss)"
   ]
  },
  {
   "cell_type": "markdown",
   "metadata": {
    "cell_id": "e813a5cb43d642ed841a99599fb7186e",
    "deepnote_cell_type": "markdown",
    "tags": []
   },
   "source": [
    "Utilidades de Scikit Learn : https://scikit-learn.org/stable/modules/preprocessing.html"
   ]
  },
  {
   "cell_type": "markdown",
   "metadata": {
    "cell_id": "42e8c05487aa417697bd04c0dfd2d6e8",
    "deepnote_cell_type": "markdown",
    "tags": []
   },
   "source": [
    "### Transformaciones no lineales"
   ]
  },
  {
   "cell_type": "code",
   "execution_count": 30,
   "metadata": {
    "cell_id": "f9decb9c6dc24839abe4a2976e1a5269",
    "deepnote_cell_type": "code",
    "deepnote_to_be_reexecuted": false,
    "execution_millis": 139,
    "execution_start": 1622485028352,
    "source_hash": "f2d578bb",
    "tags": []
   },
   "outputs": [],
   "source": [
    "df = pd.read_csv('cars.csv')"
   ]
  },
  {
   "cell_type": "code",
   "execution_count": 31,
   "metadata": {
    "cell_id": "9d16f2f3e04744a3b3f6676ae10ffe9a",
    "deepnote_cell_type": "code",
    "deepnote_to_be_reexecuted": false,
    "execution_millis": 263,
    "execution_start": 1622485028869,
    "output_cleared": false,
    "source_hash": "1d9343bd",
    "tags": []
   },
   "outputs": [
    {
     "data": {
      "text/plain": [
       "<AxesSubplot: >"
      ]
     },
     "execution_count": 31,
     "metadata": {},
     "output_type": "execute_result"
    },
    {
     "data": {
      "image/png": "[encoded data removed]",
      "text/plain": [
       "<Figure size 640x480 with 1 Axes>"
      ]
     },
     "metadata": {},
     "output_type": "display_data"
    }
   ],
   "source": [
    "df.price_usd.hist()"
   ]
  },
  {
   "cell_type": "markdown",
   "metadata": {
    "cell_id": "72678a011130469d90d1438e63a55fc9",
    "deepnote_cell_type": "markdown",
    "tags": []
   },
   "source": [
    "Transformación con $$tanh(x)$$"
   ]
  },
  {
   "cell_type": "code",
   "execution_count": 33,
   "metadata": {
    "cell_id": "b2a689c678904e1b95ee5cbf1722de39",
    "deepnote_cell_type": "code",
    "deepnote_to_be_reexecuted": false,
    "execution_millis": 277,
    "execution_start": 1622485031705,
    "output_cleared": false,
    "source_hash": "45297aa3",
    "tags": []
   },
   "outputs": [
    {
     "data": {
      "text/plain": [
       "<AxesSubplot: >"
      ]
     },
     "execution_count": 33,
     "metadata": {},
     "output_type": "execute_result"
    },
    {
     "data": {
      "image/png": "[encoded data removed]",
      "text/plain": [
       "<Figure size 640x480 with 1 Axes>"
      ]
     },
     "metadata": {},
     "output_type": "display_data"
    }
   ],
   "source": [
    "p = 10000\n",
    "df.price_usd.apply(lambda x: np.tanh(x/p)).hist()"
   ]
  },
  {
   "cell_type": "markdown",
   "metadata": {
    "cell_id": "77827ebb02d941319ad7e57b2953f865",
    "deepnote_cell_type": "markdown",
    "tags": []
   },
   "source": [
    "* mapear datos a una distribucion gaussiana: https://scikit-learn.org/stable/auto_examples/preprocessing/plot_map_data_to_normal.html#sphx-glr-auto-examples-preprocessing-plot-map-data-to-normal-py"
   ]
  }
 ],
 "metadata": {
  "deepnote": {
   "is_reactive": false
  },
  "deepnote_execution_queue": [],
  "deepnote_notebook_id": "7d1c2e22a5cf4efa84267a61f8f905e2",
  "kernelspec": {
   "display_name": "Python 3 (ipykernel)",
   "language": "python",
   "name": "python3"
  },
  "language_info": {
   "codemirror_mode": {
    "name": "ipython",
    "version": 3
   },
   "file_extension": ".py",
   "mimetype": "text/x-python",
   "name": "python",
   "nbconvert_exporter": "python",
   "pygments_lexer": "ipython3",
   "version": "3.11.0"
  }
 },
 "nbformat": 4,
 "nbformat_minor": 4
}
