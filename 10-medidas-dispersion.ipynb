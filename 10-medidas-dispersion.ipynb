{
 "cells": [
  {
   "cell_type": "markdown",
   "metadata": {
    "cell_id": "ea07394842704230a5a14712f55a9571",
    "deepnote_cell_type": "markdown",
    "tags": []
   },
   "source": [
    "# <span style = \"color:royalblue\"><center>Medidas de dispersión</center></span>\n",
    "\n",
    "continuamos con el dataset https://www.kaggle.com/lepchenkov/usedcarscatalog\n",
    "\n",
    "[Quartiles](https://support.minitab.com/es-mx/minitab/21/help-and-how-to/graphs/boxplot/interpret-the-results/quartiles/)"
   ]
  },
  {
   "cell_type": "markdown",
   "metadata": {},
   "source": [
    "Estas medidas son complementarias a las medidas de tendencia central aunque como es posible evidenciar, es posible definir los cuartiles como una medida de tendencia central en el sentido de que estrictamente hablando, el Q1 es la mediana de la primera mitad de los datos, el Q2 la mediana de todo el espacio muestral y el Q3 la mediana de la segunda mitad de los datos. Aunque en sí mismos los cuartiles son medidas de dispersión. \n",
    "1. Rango: El existente entre el máximo y mínimo real contando los datos anómalos\n",
    "2. Rango intercuartil: también llamado $IQR$ la distancia entre el Q1 y el Q3\n",
    "Recordar que:\n",
    "\n",
    "\n",
    "$Q1$ Equivale a que el 25% de los datos es menor o igual a ese valor\n",
    "\n",
    "\n",
    "$Q2$ es la mediana\n",
    "\n",
    "\n",
    "$Q3$ Equivale a que el 75% de los datos es menor o igual a éste valor\n",
    "\n",
    "\n",
    "## La medida de dispersión más frecuentemente utilziada es la desviación estándar que a su vez está relacionada con la varianza.\n",
    "\n",
    "$Var =$ $\\sigma^2$ $= \\sum_{i=1}^{n}(Xi - promedio)^2$\n",
    "\n",
    "$Desv =$ $\\sigma =$  $\\sum_{i=1}^{n}\\sqrt{(Xi - promedio)^2}$\n",
    "\n",
    "\n",
    "## OJO\n",
    "\n",
    "Hay desviaciones estándar que son muestrales y otras poblacionales. Estas usualmente son representadas como $\\sigma$ $sample$\n"
   ]
  },
  {
   "cell_type": "markdown",
   "metadata": {},
   "source": [
    "### <span style=\"color:royalblue\"><center>Acerca de las Distribuciones de tipo Normal</center></span>\n",
    "\n",
    "Algo importante de las campanas de Gauss es que la media y la mediana son exactamente el mismo valor. Es decir, cuando los datos tiendan a estar alineados de esa forma, se comportan normalmente. Este punto máximo de la campana de Gauss que balancea perfectamente los $Q1$ y $Q3$ deja el espacio para que los datos outliers salgan en distribuciones alejadas de la campana de Gauss.\n",
    "En una distribución normal se dice admeás que el espectro que cubre más del 99% de los datos está contenido por:\n",
    "\n",
    "$\\mu$ - $3 \\sigma$           y           $\\mu$ + $3 \\sigma$\n",
    "\n",
    "\n",
    "En donde en la mitad estaría justamente la media y la mediana, $\\mu$\n",
    "\n",
    "### <span style=\"color:royalblue\"><center>La fórmula de los Outliers</center></span>\n",
    "Para cualquier distirbución de tipo normal se cumple que:\n",
    "\n",
    "$min = Q1 - 1.5 IQR$\n",
    "\n",
    "$max = Q3 + 1.5 IQR$\n",
    "\n",
    "Son los determinantes mínimos y máximos respectivamente para determinar los outliers. El 1.5 es un valor que coincide con contemplar justamente el 99.72%, casi todos los datos.\n",
    "\n",
    "\n",
    "## <span style=\"color:royalblue\"><center>¿Qué pasa cuando no es gaussiana?</center></span>\n",
    "Se modifica la fórmula del $IQR$ para la determinación de outliers:\n",
    "\n",
    "$min = Q1 - f * 1.5 IQR$\n",
    "\n",
    "$max = Q3 + g * 1.5 IQR$\n",
    "\n",
    "En donde $f$ y $g$ son funciones aplicables que van a ayudar a corregir el sesgo, la asimetría y las colas cortas y largas que tengan."
   ]
  },
  {
   "cell_type": "code",
   "execution_count": 9,
   "metadata": {
    "cell_id": "7a50c69c221f469da33dec0b78ada470",
    "deepnote_cell_type": "code",
    "deepnote_to_be_reexecuted": false,
    "execution_millis": 1506,
    "execution_start": 1622484865074,
    "source_hash": "e0146288",
    "tags": []
   },
   "outputs": [],
   "source": [
    "import pandas as pd \n",
    "import matplotlib.pyplot as plt\n",
    "import seaborn as sns\n",
    "\n",
    "df = pd.read_csv('cars.csv')"
   ]
  },
  {
   "cell_type": "code",
   "execution_count": 10,
   "metadata": {
    "cell_id": "87b6bf30853840c29cfafb9780f5b830",
    "deepnote_cell_type": "code",
    "deepnote_to_be_reexecuted": false,
    "execution_millis": 18,
    "execution_start": 1622484866587,
    "output_cleared": false,
    "source_hash": "27a26fd0",
    "tags": []
   },
   "outputs": [
    {
     "data": {
      "text/plain": [
       "6428.1520182029035"
      ]
     },
     "execution_count": 10,
     "metadata": {},
     "output_type": "execute_result"
    }
   ],
   "source": [
    "# Desviación estandar\n",
    "df['price_usd'].std()"
   ]
  },
  {
   "cell_type": "code",
   "execution_count": 11,
   "metadata": {
    "cell_id": "6b491dc91e584c5ab56f201e58dd6a02",
    "deepnote_cell_type": "code",
    "deepnote_to_be_reexecuted": false,
    "execution_millis": 10,
    "execution_start": 1622484866603,
    "output_cleared": false,
    "source_hash": "b2ede7cc",
    "tags": []
   },
   "outputs": [
    {
     "data": {
      "text/plain": [
       "49999.0"
      ]
     },
     "execution_count": 11,
     "metadata": {},
     "output_type": "execute_result"
    }
   ],
   "source": [
    "# Rango = valor max - valor min\n",
    "rango = df['price_usd'].max() - df['price_usd'].min()\n",
    "rango"
   ]
  },
  {
   "cell_type": "code",
   "execution_count": 19,
   "metadata": {
    "cell_id": "6684c9328d364c4cb3c41b75639072e6",
    "deepnote_cell_type": "code",
    "deepnote_to_be_reexecuted": false,
    "execution_millis": 21,
    "execution_start": 1622484866623,
    "output_cleared": false,
    "source_hash": "b228032e",
    "tags": []
   },
   "outputs": [
    {
     "name": "stdout",
     "output_type": "stream",
     "text": [
      "Valor mínimo= 1.0 \n",
      "Q1 =  2100.0 \n",
      "Q2 =  4800.0 \n",
      "Q3 =  8990.0 \n",
      "Valor máximo= 50000.0\n"
     ]
    }
   ],
   "source": [
    "# Quartiles\n",
    "median = df['price_usd'].median()\n",
    "Q1 = df['price_usd'].quantile(q=0.25)\n",
    "Q3 = df['price_usd'].quantile(q=0.75)\n",
    "min_val = df['price_usd'].min()\n",
    "max_val = df['price_usd'].max()\n",
    "\"\"\"\n",
    "Otra forma de poner los max y min values es:\n",
    "MINIMO = df['price_usd'].quantile(q=0)\n",
    "MAXIMO = df['price_usd'].quantile(q=1)\n",
    "Porque estadísticamente es equivalente a los cuartiles 0 y 1.\n",
    "\"\"\"\n",
    "print('Valor mínimo=',min_val,'\\nQ1 = ', Q1,'\\nQ2 = ', median,\n",
    "      '\\nQ3 = ', Q3,'\\nValor máximo=',max_val)"
   ]
  },
  {
   "cell_type": "code",
   "execution_count": 20,
   "metadata": {
    "cell_id": "ff06e26abe5649e9a3e74fc3eaf0c942",
    "deepnote_cell_type": "code",
    "deepnote_to_be_reexecuted": false,
    "execution_millis": 16,
    "execution_start": 1622484866642,
    "output_cleared": false,
    "source_hash": "7e09e3cb",
    "tags": []
   },
   "outputs": [
    {
     "data": {
      "text/plain": [
       "6890.0"
      ]
     },
     "execution_count": 20,
     "metadata": {},
     "output_type": "execute_result"
    }
   ],
   "source": [
    "#El IQR:\n",
    "iqr = Q3 - Q1\n",
    "iqr"
   ]
  },
  {
   "cell_type": "markdown",
   "metadata": {
    "cell_id": "cfecc7d1e1e948f4adaa794a4c726dd9",
    "deepnote_cell_type": "markdown",
    "tags": []
   },
   "source": [
    "### Límites para detección de outliers (datos simetricamente distribuidos)\n",
    "\n",
    "Datos entre $$Q_1 -1.5 \\times \\text{IQR}$$ y $$Q_3 + 1.5 \\times \\text{IQR}$$"
   ]
  },
  {
   "cell_type": "code",
   "execution_count": 23,
   "metadata": {
    "cell_id": "619debba751d48bb8dfd02658c69ca50",
    "deepnote_cell_type": "code",
    "deepnote_to_be_reexecuted": false,
    "execution_millis": 4,
    "execution_start": 1622484866699,
    "output_cleared": false,
    "source_hash": "6fc147d4",
    "tags": []
   },
   "outputs": [
    {
     "name": "stdout",
     "output_type": "stream",
     "text": [
      "rango para detección de outliers: -8235.0, 19325.0\n"
     ]
    }
   ],
   "source": [
    "\"\"\"\n",
    "Ojo que acá no tiene sentido el valor negativo. Se está hablando de valores positivos en dólares.\n",
    "El hecho es que sucede porque el IQR es muy alto y sobrepasa el valor del Q1.\n",
    "La validez es nula.\n",
    "\"\"\"\n",
    "minlimit = Q1 - 1.5*iqr\n",
    "maxlimit = Q3 + 1.5*iqr\n",
    "print('rango para detección de outliers: {}, {}'.format(minlimit, maxlimit))"
   ]
  },
  {
   "cell_type": "code",
   "execution_count": 7,
   "metadata": {
    "cell_id": "9d52c813beee49be99cdedfc04b54230",
    "deepnote_cell_type": "code",
    "deepnote_to_be_reexecuted": false,
    "execution_millis": 711,
    "execution_start": 1622484866700,
    "output_cleared": false,
    "source_hash": "e9aafd7e",
    "tags": []
   },
   "outputs": [
    {
     "data": {
      "text/plain": [
       "[Text(0.5, 0, '')]"
      ]
     },
     "execution_count": 7,
     "metadata": {},
     "output_type": "execute_result"
    },
    {
     "data": {
      "image/png": "[encoded data removed]",
      "text/plain": [
       "<Figure size 1170x827 with 2 Axes>"
      ]
     },
     "metadata": {},
     "output_type": "display_data"
    }
   ],
   "source": [
    "sns.set(rc={'figure.figsize':(11.7,8.27)})\n",
    "f, (ax_hist, ax_box) = plt.subplots(2, sharex=True, gridspec_kw={\"height_ratios\": (.6, .4)})\n",
    "sns.histplot(df['price_usd'], ax=ax_hist)\n",
    "sns.boxplot(df['price_usd'], ax=ax_box)\n",
    "ax_hist.set(xlabel='')"
   ]
  },
  {
   "cell_type": "markdown",
   "metadata": {
    "cell_id": "3f95cb4c855c4e77b49b82ebd5b37bcc",
    "deepnote_cell_type": "markdown",
    "tags": []
   },
   "source": [
    "Es posible calcular varios box-plot separando por una cierta variable categórica:"
   ]
  },
  {
   "cell_type": "code",
   "execution_count": 8,
   "metadata": {
    "cell_id": "50c59a2858724f51994030b1d5020be3",
    "deepnote_cell_type": "code",
    "deepnote_to_be_reexecuted": false,
    "execution_millis": 355,
    "execution_start": 1622484867463,
    "source_hash": "e20e1c36",
    "tags": []
   },
   "outputs": [
    {
     "data": {
      "text/plain": [
       "<AxesSubplot: xlabel='engine_fuel', ylabel='price_usd'>"
      ]
     },
     "execution_count": 8,
     "metadata": {},
     "output_type": "execute_result"
    },
    {
     "data": {
      "image/png": "[encoded data removed]",
      "text/plain": [
       "<Figure size 1170x827 with 1 Axes>"
      ]
     },
     "metadata": {},
     "output_type": "display_data"
    }
   ],
   "source": [
    "sns.boxplot(x = 'engine_fuel', y = 'price_usd', data = df)"
   ]
  },
  {
   "cell_type": "code",
   "execution_count": null,
   "metadata": {
    "cell_id": "7e7b480363354cf38056c4ab983cdd1e",
    "deepnote_cell_type": "code",
    "deepnote_to_be_reexecuted": false,
    "execution_millis": 1,
    "execution_start": 1622484867821,
    "source_hash": "b623e53d",
    "tags": []
   },
   "outputs": [],
   "source": []
  }
 ],
 "metadata": {
  "deepnote": {
   "is_reactive": false
  },
  "deepnote_execution_queue": [],
  "deepnote_notebook_id": "d60ebef385dc4b4a9e8506b0b2e8f70e",
  "kernelspec": {
   "display_name": "Python 3 (ipykernel)",
   "language": "python",
   "name": "python3"
  },
  "language_info": {
   "codemirror_mode": {
    "name": "ipython",
    "version": 3
   },
   "file_extension": ".py",
   "mimetype": "text/x-python",
   "name": "python",
   "nbconvert_exporter": "python",
   "pygments_lexer": "ipython3",
   "version": "3.11.0"
  }
 },
 "nbformat": 4,
 "nbformat_minor": 4
}
